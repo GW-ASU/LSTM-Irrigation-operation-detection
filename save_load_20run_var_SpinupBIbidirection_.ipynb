{
 "cells": [
  {
   "cell_type": "code",
   "execution_count": 1,
   "id": "32acf337-1c66-4a54-97d6-5d670629da8a",
   "metadata": {},
   "outputs": [],
   "source": [
    "import pandas as pd\n",
    "import numpy as np\n",
    "import itertools\n",
    "from itertools import groupby\n",
    "import matplotlib.pyplot as plt\n",
    "import warnings\n",
    "warnings.filterwarnings(\"ignore\")\n",
    "import random\n",
    "from sklearn.model_selection import train_test_split\n",
    "from sklearn.decomposition import PCA\n",
    "from sklearn.preprocessing import StandardScaler\n",
    "import torch\n",
    "import os\n",
    "torch.backends.cudnn.deterministic = True\n",
    "torch.backends.cudnn.benchmark = False\n",
    "pd.options.mode.chained_assignment = None \n",
    "device = torch.device('cuda' if torch.cuda.is_available() else 'cpu')\n",
    "random_seed_list=random.sample(range(1, 878), 20)\n",
    "def standardization (df):\n",
    "    df_mean=np.nanmean(df)\n",
    "    df_std=np.nanstd(df)\n",
    "    df_stdz=(df-df_mean)/df_std\n",
    "    return(df_stdz)\n",
    "import classification_daily_SPINUP_Bidirection as clss\n",
    "import pros_cls_dat_0120_variables_SPINUP_BIdirection as pdc\n",
    "import shapely.wkt\n",
    "import captum\n",
    "from captum.attr import IntegratedGradients, Occlusion, LayerGradCam, LayerAttribution"
   ]
  },
  {
   "cell_type": "code",
   "execution_count": 2,
   "id": "2a97fab6-1088-4934-82af-4132dbffb3cc",
   "metadata": {},
   "outputs": [],
   "source": [
    "index_well=pd.read_excel('D:/index_well_KS_NE_TX/NE_TX_KS_well_location_xlsx.xlsx')\n",
    "well_condition=index_well.iloc[:,-1]\n",
    "index_well_name=index_well[well_condition.isnull()]['well_no']\n",
    "columns_well=index_well_name.tolist()\n",
    "# fold_pth='D:/NE_TX_KS_time_series/ready_state_01-20/'\n",
    "fold_pth='D:/NE_TX_KS_time_series/ready_state_0120_v4/'\n",
    "time_var=pd.read_csv('D:/NE_TX_KS_time_series/time_indicator_15May_15Oct.csv', index_col=0)\n",
    "time_var.index=pd.to_datetime(time_var.index)"
   ]
  },
  {
   "cell_type": "code",
   "execution_count": 7,
   "id": "86f173c2-ae28-46e2-84b2-6ba077dbbbd6",
   "metadata": {},
   "outputs": [
    {
     "data": {
      "text/plain": [
       "21"
      ]
     },
     "execution_count": 7,
     "metadata": {},
     "output_type": "execute_result"
    }
   ],
   "source": [
    "len(columns_well)"
   ]
  },
  {
   "cell_type": "code",
   "execution_count": 4,
   "id": "79f63374-c44b-4063-a46d-291a68f8d848",
   "metadata": {},
   "outputs": [
    {
     "name": "stdout",
     "output_type": "stream",
     "text": [
      "['NE_4', 'NE_6', 'NE_14', 'NE_18', 'NE_21', 'NE_24', 'NE_50', 'NE_53', 'NE_57', 'KS_1', 'KS_4', 'KS_6', 'KS_11', 'KS_12', 'KS_13', 'KS_15', 'KS_20', 'KS_21', 'KS_22', 'KS_23', 'KS_26']\n"
     ]
    }
   ],
   "source": [
    "\"'configurations'\"\n",
    "# index_well=pd.read_excel('D:/index_well_KS_NE_TX/NE_TX_KS_well_location_xlsx.xlsx')\n",
    "# index_well_name=index_well.iloc[:,0]\n",
    "variables=[ \n",
    "    'ld_blue', 'ld_green', 'ld_nir', 'ld_red','ld_swir1', 'ld_swir2', 'ld_thermal1',    \n",
    "        'mod_blue','mod_et', 'mod_green', 'mod_nir', 'mod_red','mod_swir1', 'mod_swir2'  \n",
    "\n",
    "    ,'noah_mp',\n",
    "       'tem', 'vpd',\n",
    "    'pr_5mmthrehold'\n",
    "    ,'denisarea'    #'agri_area','doy',\n",
    "]\n",
    "check_c=['well_level','time','irrilabel','name_col','event_label','pr_label'\n",
    "         ,'pr_raw','pr_5mmthrehold_raw','vpd_raw','dryspell']#\n",
    "\n",
    "\n",
    "variables_withy=variables+check_c#'irrigation_RMSE',\n",
    "\n",
    "time_indicator=['doy']#['year_decimal','month_numerical','June','July',\t'August','September']\n",
    "\n",
    "\n",
    "print(columns_well)\n",
    "\n",
    "n_step=122\n",
    "no_class_y=2\n",
    "split_fraction=0.2\n",
    "split_fraction_2=0.25\n",
    "fil_nan=20\n",
    "start_dat='2008-01-01'\n",
    "end_dat='2020-12-31'\n",
    "start_year=2008\n",
    "end_year=2020"
   ]
  },
  {
   "cell_type": "code",
   "execution_count": 10,
   "id": "9f41b974-6c98-4d8e-ba34-8ecbd70094b8",
   "metadata": {},
   "outputs": [],
   "source": [
    "ready_data=pdc.make_sequence(columns_well,fold_pth,time_indicator,start_year, end_year,variables_withy,time_var)\n"
   ]
  },
  {
   "cell_type": "code",
   "execution_count": 12,
   "id": "c2e0195e-baa6-4ce8-9006-f816ce8e48d6",
   "metadata": {},
   "outputs": [],
   "source": [
    "dry_spell_all=[]\n",
    "for i in ready_data:\n",
    "    kkk=np.copy(i['pr_raw'])\n",
    "    kkk[kkk==0]=2\n",
    "    \n",
    "    dry_group=[sum(group) for _, group in groupby(kkk)]\n",
    "    dry_inde=[k_inde for k_inde, group in groupby(kkk)]\n",
    "    dry_label= [ np.full((int(dry_group[z]/dry_inde[z] )),dry_group[z]/2).data.tolist() if dry_inde[z]==2 else \n",
    "                     np.full((int(dry_group[z]/dry_inde[z] )),0).data.tolist() for z in range(len(dry_group))]\n",
    "    event_fin=list(itertools.chain.from_iterable(dry_label))\n",
    "    dry_spell_all.append(event_fin)\n"
   ]
  },
  {
   "cell_type": "code",
   "execution_count": 13,
   "id": "9021123f-0399-45b5-ab00-87cd995a3d08",
   "metadata": {},
   "outputs": [],
   "source": [
    "dry_spell_std=standardization (dry_spell_all)\n",
    "ready_data_new=[]\n",
    "for seq in range(len(ready_data)):\n",
    "    seq_new=ready_data[seq]\n",
    "    seq_new['dryspell']=dry_spell_std[seq,:]\n",
    "    ready_data_new.append(seq_new)"
   ]
  },
  {
   "cell_type": "code",
   "execution_count": 14,
   "id": "0db0ba7a-aeec-4931-aa11-f13abfe0f257",
   "metadata": {},
   "outputs": [],
   "source": [
    "data_X,data_y,data_W=pdc.ready_data(ready_data_new,variables, check_c)"
   ]
  },
  {
   "cell_type": "code",
   "execution_count": null,
   "id": "8397ed85-6a15-4ecf-961a-8476f40043d9",
   "metadata": {},
   "outputs": [],
   "source": []
  },
  {
   "cell_type": "code",
   "execution_count": null,
   "id": "8e6c78b3-b456-44bd-a1f0-cde6db960629",
   "metadata": {},
   "outputs": [],
   "source": [
    "# torch.save(data_X, 'F:/manuscript_2022_figure/model_scenario/20_ensemble_withoutAGL/rmv_well_2/data_input.pt')\n",
    "# torch.save(data_y, 'F:/manuscript_2022_figure/model_scenario/20_ensemble_withoutAGL/rmv_well_2/data_target.pt')\n",
    "# np.save('F:/manuscript_2022_figure/model_scenario/20_ensemble_withoutAGL/rmv_well_2/data_info.npy',data_W)"
   ]
  },
  {
   "cell_type": "code",
   "execution_count": 46,
   "id": "1cbdce82-dd22-452c-979b-e9175464f5eb",
   "metadata": {},
   "outputs": [],
   "source": [
    "data_X1=torch.load('F:/manuscript_2022_figure/model_scenario/indexwell_with_gridscale_input/data_input_indexwell_grid.pt')\n",
    "data_y=torch.load('F:/manuscript_2022_figure/model_scenario/indexwell_with_gridscale_input/data_target_indexwell_grid.pt')\n",
    "data_W=np.load('F:/manuscript_2022_figure/model_scenario/indexwell_with_gridscale_input/data_info_indexwell_grid.npy',allow_pickle=True)"
   ]
  },
  {
   "cell_type": "code",
   "execution_count": 47,
   "id": "5f0429c3-d2e6-4432-947b-fe3b5829d550",
   "metadata": {},
   "outputs": [],
   "source": [
    "data_X = np.delete(data_X1, -3, axis=-1)"
   ]
  },
  {
   "cell_type": "code",
   "execution_count": 48,
   "id": "6e28c55c-810f-4bc3-bea7-119f6fc36fff",
   "metadata": {},
   "outputs": [
    {
     "data": {
      "text/plain": [
       "((134, 154, 11), torch.Size([134, 154]), torch.Size([134, 154, 19]))"
      ]
     },
     "execution_count": 48,
     "metadata": {},
     "output_type": "execute_result"
    }
   ],
   "source": [
    "data_W.shape,data_y.shape,data_X.shape"
   ]
  },
  {
   "cell_type": "code",
   "execution_count": 54,
   "id": "3c14ad6f-5b56-4d63-b205-f68898f2189e",
   "metadata": {},
   "outputs": [],
   "source": [
    "# figure1b=[pt[0][3] for pt in data_W]\n",
    "# well_name_arcgis=set(figure1b)\n",
    "# figures_arcgis=figure_list[figure_list['well_no'].isin(well_name_arcgis)]\n",
    "# figures_arcgis.to_excel('D:/index_well_KS_NE_TX/final_used_well.xlsx')"
   ]
  },
  {
   "cell_type": "code",
   "execution_count": null,
   "id": "a64e96fb-1661-4195-98ba-fde42291cebf",
   "metadata": {},
   "outputs": [],
   "source": [
    "test_info=np.array(data_W)\n",
    "well_info=test_info[:,17:-15,:]\n",
    "name=well_info[:,0,3]\n",
    "ne_out=[\"NE\" in na for na in name]\n",
    "ks_out=[\"KS\" in na for na in name]\n",
    "all_out=[True for na in name]"
   ]
  },
  {
   "cell_type": "code",
   "execution_count": null,
   "id": "04f50d4c-e9b1-4924-b877-1e2b3454b792",
   "metadata": {},
   "outputs": [],
   "source": [
    "test_info=np.array(W_te)\n",
    "well_info=test_info[:,17:-15,:]\n",
    "name=well_info[:,0,3]\n",
    "ne_out=[\"NE\" in na for na in name]\n",
    "ks_out=[\"KS\" in na for na in name]\n",
    "all_out=[True for na in name]"
   ]
  },
  {
   "cell_type": "code",
   "execution_count": null,
   "id": "289bd273-589b-4321-9aae-aa5721413029",
   "metadata": {},
   "outputs": [],
   "source": [
    "y_tr_ks=y_tr[ne_out]"
   ]
  },
  {
   "cell_type": "code",
   "execution_count": null,
   "id": "0c72b516-bec6-4737-a0f8-b04c3536acd6",
   "metadata": {},
   "outputs": [],
   "source": [
    "label_0=y_tr_ks[y_tr_ks==0]\n",
    "label_1=y_tr_ks[y_tr_ks==1]\n",
    "label_0.shape, label_1.shape"
   ]
  },
  {
   "cell_type": "code",
   "execution_count": null,
   "id": "9b5a43dd-b736-41f8-a88f-7096e48594b5",
   "metadata": {},
   "outputs": [],
   "source": [
    "2610/(3569+2610)"
   ]
  },
  {
   "cell_type": "code",
   "execution_count": null,
   "id": "d2a23247-4dff-4b52-b1bc-781fdc67e9da",
   "metadata": {},
   "outputs": [],
   "source": [
    "para_dict = {\n",
    "  \"n_features\": data_X.shape[2],\n",
    "  \"seq_length\": data_X.shape[1],\n",
    "  \"hidden_size_1\": 64,\n",
    "  \"nb_layers_1\":1,\n",
    "  \"drop_out_1\":0,\n",
    "  \"drop_out_2\":0,\n",
    "  \"learning_rate\":0.0005,#1e-4,\n",
    "    \"train_episodes\":800,\n",
    "    \"batch_size\":32,\n",
    "    \"random_seed\":0}"
   ]
  },
  {
   "cell_type": "code",
   "execution_count": 9,
   "id": "67b7466d-1363-427b-89e1-bb3f05a15097",
   "metadata": {},
   "outputs": [
    {
     "ename": "NameError",
     "evalue": "name 'data_X' is not defined",
     "output_type": "error",
     "traceback": [
      "\u001b[1;31m---------------------------------------------------------------------------\u001b[0m",
      "\u001b[1;31mNameError\u001b[0m                                 Traceback (most recent call last)",
      "Cell \u001b[1;32mIn[9], line 1\u001b[0m\n\u001b[1;32m----> 1\u001b[0m \u001b[43mdata_X\u001b[49m\n",
      "\u001b[1;31mNameError\u001b[0m: name 'data_X' is not defined"
     ]
    }
   ],
   "source": [
    "data_X"
   ]
  },
  {
   "cell_type": "code",
   "execution_count": null,
   "id": "37a4f6fe-9250-45cf-8975-ae8a6003f11c",
   "metadata": {},
   "outputs": [],
   "source": [
    "X_trcv, X_te,y_trcv,y_te, W_trcv,W_te=train_test_split(data_X,data_y,data_W,test_size=0.2, random_state=15)\n",
    "X_tr, X_cv,y_tr,y_cv, W_tr,W_cv=train_test_split(X_trcv,y_trcv,W_trcv,test_size=0.2, random_state=15)\n",
    "# name_per_rd=[name_index['name_col'][0] for name_index in W_te]\n",
    "tensor_x_te= torch.from_numpy(np.asarray(X_te).astype(np.float32))\n",
    "tensor_y_te=torch.tensor(np.asarray(y_te),dtype=torch.int64)\n",
    "\n",
    "tensor_x_tr= torch.from_numpy(np.asarray(X_tr).astype(np.float32))\n",
    "tensor_y_tr=torch.tensor(np.asarray(y_tr),dtype=torch.int64)\n",
    "tensor_x_cv= torch.from_numpy(np.asarray(X_cv).astype(np.float32))\n",
    "tensor_y_cv=torch.tensor(np.asarray(y_cv),dtype=torch.int64)"
   ]
  },
  {
   "cell_type": "code",
   "execution_count": null,
   "id": "d365f17f-32fb-4bfa-a290-e5d5db4e6052",
   "metadata": {},
   "outputs": [],
   "source": [
    "torch.save(data_X, 'F:/manuscript_2022_figure/model_scenario/indexwell_gridscle_without_doy2/data_input.pt')\n",
    "torch.save(data_y, 'F:/manuscript_2022_figure/model_scenario/indexwell_gridscle_without_doy2/data_target.pt')\n",
    "np.save('F:/manuscript_2022_figure/model_scenario/indexwell_gridscle_without_doy2/data_info.npy',data_W)\n",
    "np.save('F:/manuscript_2022_figure/model_scenario/indexwell_gridscle_without_doy2/test_info.npy',W_te)"
   ]
  },
  {
   "cell_type": "code",
   "execution_count": null,
   "id": "a5449b25-a135-451a-b7eb-b9a071ebf71b",
   "metadata": {},
   "outputs": [],
   "source": [
    "tensor_x_tr.shape,tensor_y_cv.shape,tensor_y_te.shape"
   ]
  },
  {
   "cell_type": "code",
   "execution_count": null,
   "id": "7c6a9d07-2fc3-4714-9d26-54f0941b5550",
   "metadata": {},
   "outputs": [],
   "source": [
    "\n",
    "\n",
    "\n",
    "out_array=[]\n",
    "target_array=[]\n",
    "\n",
    "for rs_ind in range(len(random_seed_list)):\n",
    "    rs=random_seed_list[rs_ind]\n",
    "    random_seed=rs\n",
    "    random.seed(random_seed)\n",
    "    np.random.seed(random_seed)\n",
    "    torch.manual_seed(random_seed)\n",
    "    torch.cuda.manual_seed_all(random_seed)\n",
    "    para_dict['random_seed']=rs\n",
    "    para_dict['seq_length']=tensor_x_te.size(1)\n",
    "    accuracy_cv,accuracy_tr,mv_net,criterion=clss.train_validation_lstm_classification(para_dict,device,tensor_x_tr,tensor_y_tr,tensor_x_cv,tensor_y_cv)\n",
    "    torch.save(mv_net.state_dict(), \n",
    "               'F:/manuscript_2022_figure/model_scenario/indexwell_gridscle_without_doy2/model'+str(rs_ind)+'.pt')\n",
    "    mv_net.eval()\n",
    "    output_te = mv_net(tensor_x_te.to(device))\n",
    "    out_array.append(output_te.cpu().data.numpy())\n",
    "    target_array.append(tensor_y_te.cpu().data.numpy())"
   ]
  },
  {
   "cell_type": "code",
   "execution_count": null,
   "id": "ad16d646-2013-46ce-be8c-633b72c7e5b9",
   "metadata": {},
   "outputs": [],
   "source": [
    "np.save('F:/manuscript_2022_figure/model_scenario/indexwell_gridscle_without_doy2/rs_info_bi.npy'\n",
    ",random_seed_list)"
   ]
  },
  {
   "cell_type": "code",
   "execution_count": null,
   "id": "6ff48829-e005-45bf-9753-0f6b50fb052e",
   "metadata": {},
   "outputs": [],
   "source": []
  },
  {
   "cell_type": "code",
   "execution_count": null,
   "id": "2694599d-82f8-4b62-8268-83ad4635de24",
   "metadata": {},
   "outputs": [],
   "source": [
    "tensor_y_te.shape"
   ]
  },
  {
   "cell_type": "markdown",
   "id": "b3333eb7-6e05-4859-96d0-1b0d83656ebd",
   "metadata": {},
   "source": [
    "# RUN TEST "
   ]
  },
  {
   "cell_type": "code",
   "execution_count": null,
   "id": "005e1ce0-6cc8-4ca1-820f-47e451924a4d",
   "metadata": {},
   "outputs": [],
   "source": [
    "random_seed_list=np.load('F:/manuscript_2022_figure/model_scenario/indexwell_gridscle_without_doy/rs_info_bi.npy')\n",
    "out_array=[]\n",
    "target_array=[]\n",
    "\n",
    "for rs_ind in range(len(random_seed_list)):#\n",
    "    model_load =clss.MV_LSTM(para_dict['n_features'],para_dict['seq_length'], para_dict['hidden_size_1'], \n",
    "                    para_dict['nb_layers_1'], para_dict['drop_out_1'],para_dict['drop_out_2'])\n",
    "    model_load_path='F:/manuscript_2022_figure/model_scenario/indexwell_gridscle_without_doy/model'+str(rs_ind)+'.pt'\n",
    "    model_load.load_state_dict(torch.load(model_load_path))\n",
    "    model_load.to(device)\n",
    "    model_int=model_load.eval()\n",
    "    output_te =model_int(tensor_x_te.to(device))\n",
    "    out_array.append(output_te.cpu().data.numpy())\n",
    "    target_array.append(tensor_y_te.cpu().data.numpy())"
   ]
  },
  {
   "cell_type": "code",
   "execution_count": null,
   "id": "70986614-3c3c-4925-b525-c035cc577471",
   "metadata": {},
   "outputs": [],
   "source": [
    "out_all=np.array(out_array)\n",
    "target_all=np.array(target_array)"
   ]
  },
  {
   "cell_type": "code",
   "execution_count": null,
   "id": "dfaaff76-0862-44dc-97b8-7ea7439208d8",
   "metadata": {},
   "outputs": [],
   "source": [
    "len(out_array[0])"
   ]
  },
  {
   "cell_type": "code",
   "execution_count": null,
   "id": "35e74f34-6f1d-4af4-8189-586bc0d3b7bb",
   "metadata": {},
   "outputs": [],
   "source": [
    "np.save( 'F:/manuscript_2022_figure/model_scenario/indexwell_gridscle_without_doy2/BiLSTMoutput1.npy'\n",
    "        ,out_all)\n",
    "np.save('F:/manuscript_2022_figure/model_scenario/indexwell_gridscle_without_doy2/BiLSTMtarget1.npy'\n",
    "        ,target_all)\n",
    "# np.save('F:/manuscript_2022_figure/step_attribution_file/20_ensemble_run/models_and_other_outputs/wellname_bi.npy', name_array_all)"
   ]
  },
  {
   "cell_type": "markdown",
   "id": "ef251bf1-3283-4ecf-922d-e8c6f43f9d56",
   "metadata": {},
   "source": [
    "# calculate attribution"
   ]
  },
  {
   "cell_type": "markdown",
   "id": "f73b649c-3998-4cd0-98b2-737f167b255c",
   "metadata": {},
   "source": [
    "# accuracy"
   ]
  },
  {
   "cell_type": "code",
   "execution_count": null,
   "id": "37cfc365-acf1-4a2c-8e3f-d33be70618e1",
   "metadata": {},
   "outputs": [],
   "source": [
    "out_all= np.load( 'F:/manuscript_2022_figure/model_scenario/indexwell_with_gridscale_input/BiLSTMoutput.npy'\n",
    "        )\n",
    "target_all=np.load('F:/manuscript_2022_figure/model_scenario/indexwell_with_gridscale_input/BiLSTMtarget.npy'\n",
    "        )\n",
    "W_te=np.load('F:/manuscript_2022_figure/model_scenario/indexwell_with_gridscale_input/test_info.npy',allow_pickle=True\n",
    "        )"
   ]
  },
  {
   "cell_type": "code",
   "execution_count": null,
   "id": "5b5e61e9-9188-442b-b301-8e661addc488",
   "metadata": {},
   "outputs": [],
   "source": [
    "m= torch.nn.Softmax(dim=-1)\n",
    "out_soft=m(torch.Tensor(out_all))\n"
   ]
  },
  {
   "cell_type": "code",
   "execution_count": null,
   "id": "a028d656-ec40-483a-bdb6-7e39c3dae634",
   "metadata": {},
   "outputs": [],
   "source": [
    "acc_model=[]\n",
    "for i in range(20):\n",
    "    acc_data=[]\n",
    "    for k in range(out_all.shape[1]):\n",
    "        out_site=out_all[i,k,17:-15,:]\n",
    "        out_soft=m(torch.Tensor(out_site))\n",
    "        out_max=torch.argmax(out_soft, axis=-1)\n",
    "        target_site=target_all[i,k,17:-15]\n",
    "        target_site_rmv2=target_site[target_site!=2]\n",
    "        output_site_rmv2=out_max[target_site!=2].cpu().data.numpy()\n",
    "        train_acc = np.sum(output_site_rmv2 == target_site_rmv2)\n",
    "        final_train_acc = train_acc/target_site_rmv2.shape[0]#*target.size(1))\n",
    "        accu=final_train_acc\n",
    "        acc_data.append(accu)\n",
    "    acc_model.append(acc_data)"
   ]
  },
  {
   "cell_type": "code",
   "execution_count": null,
   "id": "4ca71159-5820-41bc-9e2f-df0d4096b044",
   "metadata": {},
   "outputs": [],
   "source": [
    "len(acc_model[0])"
   ]
  },
  {
   "cell_type": "code",
   "execution_count": null,
   "id": "6063f472-19a9-41e3-bca2-7dff8e66be26",
   "metadata": {},
   "outputs": [],
   "source": [
    "# name=[i['name_col'][0] for i in W_te]\n",
    "# year=[int(year_index['time'][0][0:4]) for year_index in W_te]\n",
    "# name_en=list(np.repeat(name,20))\n",
    "# year_en=list(np.repeat(year,20))\n"
   ]
  },
  {
   "cell_type": "code",
   "execution_count": null,
   "id": "96d44144-43ad-45ce-8dcb-be0aac61c53a",
   "metadata": {},
   "outputs": [],
   "source": [
    "acc_all=pd.DataFrame(data=acc_model,columns=W_te[:,0,3])\n",
    "year=pd.to_datetime(W_te[:,:,1][:,0]).year"
   ]
  },
  {
   "cell_type": "code",
   "execution_count": null,
   "id": "a981a1b8-7b65-4a7a-853c-9b8247c80fd7",
   "metadata": {},
   "outputs": [],
   "source": [
    "acc_mean_all=pd.DataFrame(acc_all.mean(), columns=['acc'])\n",
    "acc_mean_all['year']=year"
   ]
  },
  {
   "cell_type": "code",
   "execution_count": null,
   "id": "a08170bf-db21-4951-af73-cad42d81af69",
   "metadata": {},
   "outputs": [],
   "source": [
    "acc_mean_all.groupby(acc_mean_all.index).mean().sort_values(by=['acc'])"
   ]
  },
  {
   "cell_type": "code",
   "execution_count": null,
   "id": "e675d72f-abb1-4794-a54b-f6d069db89e7",
   "metadata": {},
   "outputs": [],
   "source": [
    "np.save('F:/manuscript_2022_figure/model_scenario/indexwell_gridscale_v2/test_info.npy', W_te)"
   ]
  },
  {
   "cell_type": "code",
   "execution_count": null,
   "id": "dc2f7095-ce35-4f87-8779-37f8c7fbc31e",
   "metadata": {},
   "outputs": [],
   "source": []
  }
 ],
 "metadata": {
  "kernelspec": {
   "display_name": "lstm",
   "language": "python",
   "name": "lstm"
  },
  "language_info": {
   "codemirror_mode": {
    "name": "ipython",
    "version": 3
   },
   "file_extension": ".py",
   "mimetype": "text/x-python",
   "name": "python",
   "nbconvert_exporter": "python",
   "pygments_lexer": "ipython3",
   "version": "3.9.12"
  }
 },
 "nbformat": 4,
 "nbformat_minor": 5
}
