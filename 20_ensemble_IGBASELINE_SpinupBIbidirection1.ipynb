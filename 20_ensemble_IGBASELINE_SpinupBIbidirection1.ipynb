{
 "cells": [
  {
   "cell_type": "code",
   "execution_count": 1,
   "id": "32acf337-1c66-4a54-97d6-5d670629da8a",
   "metadata": {},
   "outputs": [],
   "source": [
    "import pandas as pd\n",
    "import numpy as np\n",
    "import itertools\n",
    "from itertools import groupby\n",
    "import matplotlib.pyplot as plt\n",
    "import warnings\n",
    "warnings.filterwarnings(\"ignore\")\n",
    "import random\n",
    "from sklearn.model_selection import train_test_split\n",
    "from sklearn.decomposition import PCA\n",
    "from sklearn.preprocessing import StandardScaler\n",
    "import torch\n",
    "import os\n",
    "torch.backends.cudnn.deterministic = True\n",
    "torch.backends.cudnn.benchmark = False\n",
    "pd.options.mode.chained_assignment = None \n",
    "device = torch.device('cuda' if torch.cuda.is_available() else 'cpu')\n",
    "random_seed_list=np.load('F:/manuscript_2022_figure/model_scenario/20_ensemble_withoutAGL/same_para/rs_info_bi.npy'\n",
    ")\n",
    "fig_path='C:/Users/swei46.ASURITE/OneDrive/Documents/weekly_repo/manuscript_irri_timing/_figs4/'\n",
    "\n",
    "import classification_daily_SPINUP_Bidirection as clss\n",
    "import pros_cls_dat_0120_variables_SPINUP_BIdirection as pdc\n",
    "import shapely.wkt\n",
    "import captum\n",
    "from captum.attr import IntegratedGradients, Occlusion, LayerGradCam, LayerAttribution"
   ]
  },
  {
   "cell_type": "code",
   "execution_count": 2,
   "id": "2a97fab6-1088-4934-82af-4132dbffb3cc",
   "metadata": {},
   "outputs": [],
   "source": [
    "index_well=pd.read_excel('D:/index_well_KS_NE_TX/NE_TX_KS_well_location_xlsx.xlsx')\n",
    "well_condition=index_well.iloc[:,-1]\n",
    "index_well_name=index_well[well_condition.isnull()]['well_no']\n",
    "columns_well=index_well_name.tolist()\n",
    "# fold_pth='D:/NE_TX_KS_time_series/ready_state_01-20/'\n",
    "fold_pth='D:/NE_TX_KS_time_series/ready_state_0120_v4/'\n",
    "time_var=pd.read_csv('D:/NE_TX_KS_time_series/time_indicator_15May_15Oct.csv', index_col=0)\n",
    "time_var.index=pd.to_datetime(time_var.index)"
   ]
  },
  {
   "cell_type": "code",
   "execution_count": 3,
   "id": "79f63374-c44b-4063-a46d-291a68f8d848",
   "metadata": {},
   "outputs": [
    {
     "name": "stdout",
     "output_type": "stream",
     "text": [
      "['NE_4', 'NE_6', 'NE_14', 'NE_18', 'NE_21', 'NE_24', 'NE_50', 'NE_53', 'NE_57', 'KS_1', 'KS_4', 'KS_6', 'KS_11', 'KS_12', 'KS_13', 'KS_15', 'KS_20', 'KS_21', 'KS_22', 'KS_23', 'KS_26']\n"
     ]
    }
   ],
   "source": [
    "\"'configurations'\"\n",
    "# index_well=pd.read_excel('D:/index_well_KS_NE_TX/NE_TX_KS_well_location_xlsx.xlsx')\n",
    "# index_well_name=index_well.iloc[:,0]\n",
    "variables=[ \n",
    "    'ld_blue', 'ld_green', 'ld_nir', 'ld_red','ld_swir1', 'ld_swir2', 'ld_thermal1', #'ld_thermal2',       \n",
    "        'mod_blue','mod_et', 'mod_green', 'mod_nir', 'mod_red','mod_swir1', 'mod_swir2'  \n",
    "    ,'noah_mp',\n",
    "       'tem', 'vpd',\n",
    "    'doy','pr_5mmthrehold'\n",
    "    ,'denisarea'        #'agri_area',   \n",
    "]\n",
    "check_c=['well_level','time','irrilabel','name_col','event_label','pr_label']#,'irrigation_RMSE',\n",
    "\n",
    "variables_withy=variables+check_c#'irrigation_RMSE',\n",
    "\n",
    "time_indicator=['doy']#['year_decimal','month_numerical','June','July',\t'August','September']\n",
    "\n",
    "\n",
    "columns_well=index_well_name.tolist()\n",
    "# columns_well=['TX_46','TX_43']\n",
    "\n",
    "print(columns_well)\n",
    "\n",
    "n_step=122\n",
    "no_class_y=2\n",
    "split_fraction=0.2\n",
    "split_fraction_2=0.2\n",
    "fil_nan=20\n",
    "start_dat='2008-01-01'\n",
    "end_dat='2020-12-31'\n",
    "start_year=2008\n",
    "end_year=2020"
   ]
  },
  {
   "cell_type": "code",
   "execution_count": 4,
   "id": "9f41b974-6c98-4d8e-ba34-8ecbd70094b8",
   "metadata": {},
   "outputs": [],
   "source": [
    "ready_data=pdc.make_sequence(columns_well,fold_pth,time_indicator,start_year, end_year,variables_withy,time_var)\n",
    "data_X,data_y,data_W=pdc.ready_data(ready_data,variables, check_c)"
   ]
  },
  {
   "cell_type": "code",
   "execution_count": 5,
   "id": "7c8ff4a0-bcc3-40cf-90ee-14ae9530c9ae",
   "metadata": {},
   "outputs": [],
   "source": [
    "data_X1=torch.load('F:/manuscript_2022_figure/model_scenario/indexwell_with_gridscale_input/data_input_indexwell_grid.pt')\n",
    "data_y=torch.load('F:/manuscript_2022_figure/model_scenario/indexwell_with_gridscale_input/data_target_indexwell_grid.pt')\n",
    "data_W=np.load('F:/manuscript_2022_figure/model_scenario/indexwell_with_gridscale_input/data_info_indexwell_grid.npy',allow_pickle=True)"
   ]
  },
  {
   "cell_type": "code",
   "execution_count": 7,
   "id": "99813a41-22aa-4e78-8b2d-bc68c1274773",
   "metadata": {},
   "outputs": [
    {
     "data": {
      "text/plain": [
       "134"
      ]
     },
     "execution_count": 7,
     "metadata": {},
     "output_type": "execute_result"
    }
   ],
   "source": [
    "len(data_W)"
   ]
  },
  {
   "cell_type": "code",
   "execution_count": 3,
   "id": "36e85d0f-6d53-428e-993a-377e41cc3909",
   "metadata": {},
   "outputs": [],
   "source": [
    "data_X = np.delete(data_X1, -3, axis=-1)"
   ]
  },
  {
   "cell_type": "code",
   "execution_count": 4,
   "id": "f8339119-8cd5-42cc-b223-a6e9507cf0c2",
   "metadata": {},
   "outputs": [],
   "source": [
    "rs=15\n",
    "random_seed=rs\n",
    "random.seed(random_seed)\n",
    "np.random.seed(random_seed)\n",
    "torch.manual_seed(random_seed)\n",
    "torch.cuda.manual_seed_all(random_seed)\n",
    "X_trcv, X_te,y_trcv,y_te, W_trcv,W_te=train_test_split(data_X,data_y,data_W,test_size=0.2, random_state=random_seed)\n",
    "X_tr, X_cv,y_tr,y_cv, W_tr,W_cv=train_test_split(X_trcv,y_trcv,W_trcv,test_size=0.2, random_state=random_seed)\n",
    "tensor_x_te= torch.from_numpy(np.asarray(X_te).astype(np.float32))\n",
    "tensor_y_te=torch.tensor(np.asarray(y_te),dtype=torch.int64)"
   ]
  },
  {
   "cell_type": "code",
   "execution_count": 5,
   "id": "d2a23247-4dff-4b52-b1bc-781fdc67e9da",
   "metadata": {},
   "outputs": [],
   "source": [
    "para_dict = {\n",
    "  \"n_features\": data_X.shape[2],\n",
    "  \"seq_length\": data_X.shape[1],\n",
    "  \"hidden_size_1\": 64,\n",
    "  \"nb_layers_1\":1,\n",
    "  \"drop_out_1\":0,\n",
    "  \"drop_out_2\":0,\n",
    "  \"learning_rate\":5e-5,#1e-4,\n",
    "    \"train_episodes\":800,\n",
    "    \"batch_size\":16,\n",
    "    \"random_seed\":0}"
   ]
  },
  {
   "cell_type": "code",
   "execution_count": 7,
   "id": "56f4e1f7-77db-40d8-bb78-739259eacace",
   "metadata": {},
   "outputs": [
    {
     "data": {
      "text/plain": [
       "torch.Size([134, 154, 19])"
      ]
     },
     "execution_count": 7,
     "metadata": {},
     "output_type": "execute_result"
    }
   ],
   "source": [
    "data_X.shape"
   ]
  },
  {
   "cell_type": "code",
   "execution_count": null,
   "id": "e93527aa-267f-46a4-a6cf-49891dbdce59",
   "metadata": {},
   "outputs": [],
   "source": [
    "all_mean= np.array([np.mean(data_X, axis=0).round() for i in range (data_X.shape[1]) ]\n",
    "                 ,dtype=np.float32).reshape(1,data_X.shape[1],data_X.shape[2])"
   ]
  },
  {
   "cell_type": "code",
   "execution_count": null,
   "id": "37a4f6fe-9250-45cf-8975-ae8a6003f11c",
   "metadata": {},
   "outputs": [],
   "source": [
    "# data_con=pd.concat(ready_data)\n",
    "# data_con=data_X\n",
    "# all_min=np.array([np.min(data_con[variables], axis=0).round() for i in range (data_X.shape[1]) ]\n",
    "#                  ,dtype=np.float32).reshape(1,data_X.shape[1],data_X.shape[2])\n",
    "# all_max= np.array([np.max(data_con[variables], axis=0).round() for i in range (data_X.shape[1]) ]\n",
    "#                  ,dtype=np.float32).reshape(1,data_X.shape[1],data_X.shape[2])\n",
    "all_mean= np.array([np.mean(data_con[variables], axis=0).round() for i in range (data_X.shape[1]) ]\n",
    "                 ,dtype=np.float32).reshape(1,data_X.shape[1],data_X.shape[2])\n",
    "bs_array = np.zeros((tensor_x_te.shape[0], data_X.shape[1], data_X.shape[2]), dtype=np.float32) \n",
    "\n",
    "# bs_array[:,:,variables.index('denisarea')]=all_min[:,:,variables.index('denisarea')]#irrigated area set as min\n",
    "# bs_array[:,:,variables.index('doy')]=all_min[:,:,variables.index('doy')]#doy set as min\n",
    "# bs_array[:,:,variables.index('mod_et')]=all_mean[:,:,variables.index('mod_et')]#irrigated area set as min\n",
    "# bs_array[:,:,variables.index('pr_5mmthrehold')]=all_mean[:,:,variables.index('pr_5mmthrehold')]#doy set as min\n",
    "# bs_array[:,:,variables.index('agri_area')]=all_mean[:,:,variables.index('agri_area')]#doy set as min\n",
    "\n",
    "# bs_array[:,:,variables.index('vpd')]=all_min[:,:,variables.index('vpd')]#irrigated area set as min\n",
    "# bs_array[:,:,variables.index('noah_mp')]=all_max[:,:,variables.index('noah_mp')]#doy set as min\n",
    "baseline_ig= torch.tensor(bs_array ).to(device)"
   ]
  },
  {
   "cell_type": "code",
   "execution_count": null,
   "id": "5faee116-53af-44ae-866c-bc4aa7a56c29",
   "metadata": {},
   "outputs": [],
   "source": [
    "step_ig=[]\n",
    "step_count=[]\n",
    "retrieve_dat=[]\n",
    "date_index=np.arange (0,data_X.shape[1])+1\n",
    "for rs_ind in range(20):\n",
    "    model_load =clss.MV_LSTM(para_dict['n_features'],para_dict['seq_length'], para_dict['hidden_size_1'], \n",
    "                    para_dict['nb_layers_1'], para_dict['drop_out_1'],para_dict['drop_out_2'])\n",
    "    model_load_path='F:/manuscript_2022_figure/model_scenario/20_ensemble_withoutAGL/same_para/model'+str(rs_ind)+'.pt'\n",
    "    model_load.load_state_dict(torch.load(model_load_path))\n",
    "    model_load.to(device)\n",
    "    \n",
    "    model_int=model_load.train()\n",
    "\n",
    "    ig = IntegratedGradients(model_int,multiply_by_inputs=True)\n",
    "\n",
    "    for k_sequence in range (17,139):\n",
    "        target_output =(k_sequence,1)\n",
    "        attributions = ig.attribute(tensor_x_te.to(device), target=target_output,baselines=baseline_ig)#,baselines=baseline_ig\n",
    "        attr_numpy=attributions.cpu().data.numpy()#.reshape(tensor_x_te.size(1)\n",
    "                                                       #,tensor_x_te.size(2))\n",
    "        step_before_current=k_sequence-date_index\n",
    "        step_ig.append(attr_numpy)\n",
    "        step_count.append(step_before_current)"
   ]
  },
  {
   "cell_type": "code",
   "execution_count": null,
   "id": "12daa25e-34bc-41fb-baa0-67eda414a1a5",
   "metadata": {},
   "outputs": [],
   "source": []
  },
  {
   "cell_type": "code",
   "execution_count": null,
   "id": "0af3d7db-0807-4530-8664-5b7991029268",
   "metadata": {},
   "outputs": [],
   "source": [
    "saveig=np.array(step_ig,dtype=np.float32)\n",
    "np.save('F:/manuscript_2022_figure/model_scenario/20_ensemble_withoutAGL/same_para/ig_baseline0.npy'\n",
    "        , saveig)\n",
    "savestep=np.array(step_count,dtype=np.float32)\n",
    "np.save('F:/manuscript_2022_figure/model_scenario/20_ensemble_withoutAGL/same_para/step_baseline0.npy'\n",
    "        , savestep)"
   ]
  },
  {
   "cell_type": "code",
   "execution_count": null,
   "id": "838fdafd-6ac0-417a-9a1a-01c5498c2891",
   "metadata": {},
   "outputs": [],
   "source": []
  },
  {
   "cell_type": "markdown",
   "id": "618e60a8-4c3e-40e9-9cf3-bac34057049e",
   "metadata": {},
   "source": [
    "# Varaibles atribution"
   ]
  },
  {
   "cell_type": "code",
   "execution_count": null,
   "id": "82362073-b008-45e4-8717-678ce083cec6",
   "metadata": {},
   "outputs": [],
   "source": [
    "step_ig=np.load('F:/manuscript_2022_figure/model_scenario/20_ensemble_withoutAGL/same_para/ig_baseline0.npy')\n",
    "step_count=np.load('F:/manuscript_2022_figure/model_scenario/20_ensemble_withoutAGL/same_para/step_baseline0.npy')"
   ]
  },
  {
   "cell_type": "code",
   "execution_count": null,
   "id": "3a88c64f-3f55-44f5-985d-b80a45fd9bc1",
   "metadata": {},
   "outputs": [],
   "source": [
    "variables_name=[ \n",
    "    'LANDSAT Blue', 'LANDSAT Green', 'LANDSAT NIR', 'LANDSAT Red','LANDSAT SWIR1', 'LANDSAT SWIR2', 'LANDSAT Thermal', \n",
    "        'MODIS Blue','MODIS ET', 'MODIS Green', 'MODIS NIR', 'MODIS Red','MODIS SWIR1', 'MODIS SWIR2'  \n",
    "    ,'Noah-MP Soil moisture',\n",
    "       'Temperature', 'VPD',\n",
    "    'DOY','Precipitation'\n",
    "    ,'Irrigated land percentage'           #'Agricultural land percentage',\n",
    "]"
   ]
  },
  {
   "cell_type": "code",
   "execution_count": null,
   "id": "ae88e76b-06fa-404b-a77c-e143bbfe0d69",
   "metadata": {},
   "outputs": [],
   "source": []
  },
  {
   "cell_type": "code",
   "execution_count": null,
   "id": "f7a25aa7-d310-4760-b957-a7340be88a76",
   "metadata": {},
   "outputs": [],
   "source": [
    "ig_a=np.array(step_ig)\n",
    "prlabel_ready=np.array(W_te)[:,:,-1]#\n",
    "pr_mask=np.nonzero(prlabel_ready)\n",
    "ig_a[:,pr_mask[0],pr_mask[1],8]=0\n",
    "ig_b=ig_a.mean(axis=0).mean(axis=0).mean(axis=0)"
   ]
  },
  {
   "cell_type": "code",
   "execution_count": null,
   "id": "5c4d7a0e-8d89-46bb-85a7-e21ec8a4e86d",
   "metadata": {},
   "outputs": [],
   "source": [
    "ig_a.shape"
   ]
  },
  {
   "cell_type": "code",
   "execution_count": null,
   "id": "fcecd0d9-620b-4916-86f6-1b65c028bf80",
   "metadata": {},
   "outputs": [],
   "source": [
    "ig_top=ig_a[:,[24,0,29,25,40],:,:]\n",
    "ig_top_mean=ig_top.mean(axis=0).mean(axis=0).mean(axis=0)"
   ]
  },
  {
   "cell_type": "code",
   "execution_count": null,
   "id": "d1b8621e-2d91-4c8f-85cc-62e1c34f080f",
   "metadata": {},
   "outputs": [],
   "source": [
    "ig_top.shape"
   ]
  },
  {
   "cell_type": "code",
   "execution_count": null,
   "id": "21e0e862-6071-4456-8236-bf49276523a3",
   "metadata": {},
   "outputs": [],
   "source": [
    "state_info=np.array(W_te)[:,:,-3][:,0]\n",
    "ne_mask=[\"NE\" in na for na in state_info]\n",
    "ks_mask=[\"KS\" in na for na in state_info]\n",
    "ig_ne=ig_a[:,ne_mask,:,:].mean(axis=0).mean(axis=0).mean(axis=0)\n",
    "ig_ks=ig_a[:,ks_mask,:,:].mean(axis=0).mean(axis=0).mean(axis=0)\n",
    "ig_select=ig_top.reshape(20,122,5,154,20)#[:,:,:,:].mean(axis=0).mean(axis=0).mean(axis=0)\n",
    "ig_july=ig_select[:,30:61,:,:,:].mean(axis=0).mean(axis=0).mean(axis=0).mean(axis=0)\n",
    "ig_aug=ig_select[:,61:92,:,:,:].mean(axis=0).mean(axis=0).mean(axis=0).mean(axis=0)"
   ]
  },
  {
   "cell_type": "code",
   "execution_count": null,
   "id": "785f3f3d-c2b9-4f77-bbf5-7144c5cf5f12",
   "metadata": {},
   "outputs": [],
   "source": [
    "ig_select[:,61:92,:,:,:].shape"
   ]
  },
  {
   "cell_type": "code",
   "execution_count": null,
   "id": "7befdf59-4927-49a9-8227-b117fd6852f5",
   "metadata": {},
   "outputs": [],
   "source": [
    "from matplotlib import rc\n",
    "rc('font',**{'family':'serif','serif':['Times']})\n",
    "# rc.rcParams['font.size'] = 12\n",
    "rc('text', usetex=True)\n",
    "txt_size=15\n",
    "label_size=13"
   ]
  },
  {
   "cell_type": "code",
   "execution_count": null,
   "id": "4798a985-0aec-4acf-a944-9bd3eb0715b3",
   "metadata": {},
   "outputs": [],
   "source": [
    "# attri_frame.to_csv('F:/manuscript_2022_figure/model_scenario/20_ensemble_run/models_and_other_outputs/feature_acttribution_0.csv')"
   ]
  },
  {
   "cell_type": "code",
   "execution_count": null,
   "id": "d9c05535-1df2-488c-9fef-bcd0185a9eab",
   "metadata": {},
   "outputs": [],
   "source": [
    "attri_frame=pd.DataFrame(data=list(zip(ig_top_mean,ig_july,ig_aug)), index=variables_name, columns=['attributon','july','aug']).sort_values(by=['attributon'],axis=0)\n"
   ]
  },
  {
   "cell_type": "code",
   "execution_count": null,
   "id": "c2e74963-8e83-488c-87ed-73dcd8e7ba81",
   "metadata": {},
   "outputs": [],
   "source": [
    "fig, ax1=plt.subplots(nrows=1, ncols=1, sharex= True, figsize=(10,5), dpi=200)\n",
    "ax1.bar(np.arange(0,attri_frame.shape[0]), attri_frame['attributon'])\n",
    "ax1.set_xticks(ticks=np.arange(0,attri_frame.shape[0]),labels=attri_frame.index, rotation=90)\n",
    "ax1.tick_params(direction='in',labelsize=label_size)\n",
    "ax1.set_ylabel('Integrated gradient',fontsize=txt_size)\n",
    "plt.grid()\n",
    "fig.tight_layout() \n",
    "# fig.savefig(fig_path+'feature_attribution.tif',bbox_inches='tight',dpi=500)    \n",
    "\n",
    "plt.show()"
   ]
  },
  {
   "cell_type": "markdown",
   "id": "24aaa498-c3ad-493c-9899-7f72bf882b81",
   "metadata": {},
   "source": [
    "## KS VS NE all feature"
   ]
  },
  {
   "cell_type": "code",
   "execution_count": null,
   "id": "a48a3b2e-cb1f-4792-ad0b-1ba0b9c63eb6",
   "metadata": {},
   "outputs": [],
   "source": [
    "txt_size=15\n",
    "label_size=14\n",
    "fig, axe=plt.subplots(nrows=2, ncols=1, sharex= True, sharey= True, figsize=(12,6), dpi=200)\n",
    "ax=axe.flatten()\n",
    "plot_x2=np.arange(0,attri_frame.shape[0])\n",
    "ax[1].bar(plot_x2-0.15, attri_frame['july'],0.3,label='July',color='b',alpha=0.3)\n",
    "\n",
    "ax[1].bar(plot_x2+0.15, attri_frame['aug'],0.3,label='August',color='orange',alpha=0.3)\n",
    "ax[1].set_xticks(ticks=np.arange(0,attri_frame.shape[0]),labels=attri_frame.index, rotation=90)\n",
    "ax[1].tick_params(direction='in',labelsize=label_size)\n",
    "ax[1].set_ylabel('Integrated gradient',fontsize=txt_size)\n",
    "ax[1].legend( loc='upper left',fontsize=txt_size, frameon=False)\n",
    "# plt.grid()\n",
    "# fig.tight_layout() \n",
    "# fig.savefig(fig_path+'feature_attribution.tif',bbox_inches='tight',dpi=500)    \n",
    "\n",
    "# plt.show()\n",
    "\n",
    "ax[0].bar(np.arange(0,attri_frame.shape[0]), attri_frame['attributon'],label='Averaged')\n",
    "ax[0].set_xticks(ticks=plot_x2,labels=attri_frame.index, rotation=90)\n",
    "ax[0].tick_params(direction='in',labelsize=label_size)\n",
    "ax[0].xaxis.set_ticks_position('both')\n",
    "ax[0].set_ylabel('Integrated gradient',fontsize=txt_size)\n",
    "ax[0].legend( loc='upper left',fontsize=txt_size, frameon=False)\n",
    "\n",
    "ax[1].grid()\n",
    "ax[0].grid()\n",
    "fig.tight_layout() \n",
    "\n",
    "fig.savefig(fig_path+'feature_attribution_ks_ne.tif',bbox_inches='tight',dpi=500)    \n",
    "\n"
   ]
  },
  {
   "cell_type": "code",
   "execution_count": null,
   "id": "80b8d9fc-af16-4757-97cf-87db0a109d9e",
   "metadata": {},
   "outputs": [],
   "source": [
    "fig, axe=plt.subplots(nrows=1, ncols=1, sharex= True, figsize=(20,8), dpi=500)\n",
    "\n",
    "plot_x2=np.arange(0,attri_frame.shape[0])\n",
    "axe.bar(plot_x2-0.15, attri_frame['NE'],0.3,label='Nebraska',color='b',alpha=0.3)\n",
    "\n",
    "axe.bar(plot_x2+0.15, attri_frame['KS'],0.3,label='Kansas',color='orange',alpha=0.3)\n",
    "axe.set_xticks(ticks=np.arange(0,attri_frame.shape[0]),labels=attri_frame.index, rotation=90)\n",
    "axe.tick_params(direction='in',labelsize=label_size)\n",
    "axe.set_ylabel('Integrated gradient',fontsize=txt_size)\n",
    "axe.grid()\n",
    "fig.tight_layout() \n",
    "\n",
    "# fig.savefig(fig_path+'step_arttribution.tif',bbox_inches='tight',dpi=500)    \n",
    "\n"
   ]
  },
  {
   "cell_type": "markdown",
   "id": "6ae43e09-6792-4c2f-9528-2271ace97856",
   "metadata": {},
   "source": [
    "# Step attribution\n"
   ]
  },
  {
   "cell_type": "code",
   "execution_count": null,
   "id": "6368562f-09bc-4690-a42d-1b89e6a2d676",
   "metadata": {},
   "outputs": [],
   "source": [
    "ig_step=np.transpose(ig_select[:,30:92,:,:,:].reshape(-1,5,154,20), (1, 0, 2, 3))\n",
    "step_jg=np.array(step_count).reshape(20,122,154)\n"
   ]
  },
  {
   "cell_type": "code",
   "execution_count": null,
   "id": "5475eeb1-9895-4833-bd0e-3602e29491c2",
   "metadata": {},
   "outputs": [],
   "source": [
    "step_jg.shape"
   ]
  },
  {
   "cell_type": "code",
   "execution_count": null,
   "id": "b1984dca-3e89-4044-9ea2-de0c4ca9f507",
   "metadata": {},
   "outputs": [],
   "source": [
    "step_arry=step_jg[:,30:92,:].reshape(-1,154)"
   ]
  },
  {
   "cell_type": "code",
   "execution_count": null,
   "id": "172c7363-3446-4456-b8f4-ea102dedc6bd",
   "metadata": {},
   "outputs": [],
   "source": [
    "step_arry.shape"
   ]
  },
  {
   "cell_type": "code",
   "execution_count": null,
   "id": "59f55f4a-1d30-40c0-b282-21d18a66c22b",
   "metadata": {},
   "outputs": [],
   "source": [
    "## use 1 becasue python start from 0 , so the date_index also start from 0\n",
    "# but where should we put the current day, as future or as past ?\n",
    "mask = (step_arry >=0)&(step_arry <=15)\n",
    "mask_2=(step_arry <1)&(step_arry >=-15)"
   ]
  },
  {
   "cell_type": "code",
   "execution_count": null,
   "id": "d18b6531-1aab-4694-be83-904269c1c435",
   "metadata": {},
   "outputs": [],
   "source": [
    "ig_back_all=ig_step[:,mask,:].mean(axis=1)#.mean(axis=0)\n",
    "ig_future_all=ig_step[:,mask_2,:].mean(axis=1)#.mean(axis=0)"
   ]
  },
  {
   "cell_type": "code",
   "execution_count": null,
   "id": "03b43b1e-8bf0-4dc4-a092-f356967901ec",
   "metadata": {},
   "outputs": [],
   "source": [
    "ig_step[:,mask,:].shape,ig_step[:,mask_2,:].shape"
   ]
  },
  {
   "cell_type": "code",
   "execution_count": null,
   "id": "348da4d4-079d-48b6-8665-4f072736eb24",
   "metadata": {},
   "outputs": [],
   "source": [
    "ig_back=ig_back_all.mean(axis=0)\n",
    "ig_future=ig_future_all.mean(axis=0)"
   ]
  },
  {
   "cell_type": "code",
   "execution_count": null,
   "id": "85743b1d-83a6-4f28-bffb-55707bf37b7a",
   "metadata": {},
   "outputs": [],
   "source": [
    "ig_back_all.shape"
   ]
  },
  {
   "cell_type": "code",
   "execution_count": null,
   "id": "d5e8f393-cf1a-4eaf-a474-a7c59957c1f6",
   "metadata": {},
   "outputs": [],
   "source": [
    "ig_step_all=pd.DataFrame(data=list(zip(ig_back,ig_future))\n",
    "                         , index=variables_name, columns=['back','future'])"
   ]
  },
  {
   "cell_type": "code",
   "execution_count": null,
   "id": "4eae4660-b31b-4f14-88ee-4e6c1472daf2",
   "metadata": {},
   "outputs": [],
   "source": [
    "step_var=[ \n",
    "    'Noah-MP Soil moisture','VPD',\n",
    "       'Temperature', \n",
    "    'Precipitation'#, 'MODIS ET'#,'LANDSAT NIR','MODIS NIR'\n",
    "]"
   ]
  },
  {
   "cell_type": "code",
   "execution_count": null,
   "id": "65d0dfbb-0226-480a-a6c4-7041dafd7f47",
   "metadata": {},
   "outputs": [],
   "source": [
    "txt_size=12\n",
    "label_size=10\n",
    "fig, ax1=plt.subplots(nrows=1, ncols=1, sharex= True, figsize=(5,2), dpi=200)\n",
    "\n",
    "plot_x=np.arange(0,len(step_var))\n",
    "ax1.bar(plot_x-0.1, ig_step_all.loc[step_var]['back'],0.15,label='Backward',color='b',alpha=0.3)\n",
    "\n",
    "ax1.bar(plot_x+0.1, ig_step_all.loc[step_var]['future'],0.15,label='Foward',color='r',alpha=0.3)\n",
    "\n",
    "ax1.set_xticks(ticks=plot_x,labels=ig_step_all.loc[step_var].index)\n",
    "ax1.tick_params(direction='in',labelsize=label_size)\n",
    "ax1.legend( loc='upper right',fontsize=txt_size, frameon=False)#,bbox_to_anchor=(0.56, 1.05)\n",
    "\n",
    "ax1.xaxis.set_ticks_position('both')\n",
    "ax1.set_ylabel('Integratead gradient',fontsize=txt_size)\n",
    "# ax1.set_ylim([-0.02, 0.15])\n",
    "plt.grid()\n",
    "fig.tight_layout() \n",
    "fig.savefig(fig_path+'step_arttribution.tif',bbox_inches='tight',dpi=500)    \n",
    "\n",
    "plt.show()"
   ]
  },
  {
   "cell_type": "code",
   "execution_count": null,
   "id": "9d5224e2-2610-414d-9a48-7203ac6a5c9e",
   "metadata": {},
   "outputs": [],
   "source": []
  }
 ],
 "metadata": {
  "kernelspec": {
   "display_name": "lstm",
   "language": "python",
   "name": "lstm"
  },
  "language_info": {
   "codemirror_mode": {
    "name": "ipython",
    "version": 3
   },
   "file_extension": ".py",
   "mimetype": "text/x-python",
   "name": "python",
   "nbconvert_exporter": "python",
   "pygments_lexer": "ipython3",
   "version": "3.9.12"
  }
 },
 "nbformat": 4,
 "nbformat_minor": 5
}
